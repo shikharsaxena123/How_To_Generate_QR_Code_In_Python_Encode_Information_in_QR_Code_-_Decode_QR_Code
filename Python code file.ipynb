{
 "cells": [
  {
   "cell_type": "markdown",
   "id": "87162cf3",
   "metadata": {},
   "source": [
    "# ENCODING YOUR SECRET QR CODE"
   ]
  },
  {
   "cell_type": "code",
   "execution_count": 1,
   "id": "690b80a9",
   "metadata": {},
   "outputs": [],
   "source": [
    "import qrcode\n",
    "\n",
    "#Create the variable to store the information\n",
    "data = \"Follow me On LinkedIn - https://www.linkedin.com/in/shikhar-saxena-803844171/\"\n",
    "\n",
    "#Encode the data\n",
    "img = qrcode.make(data)\n",
    "\n",
    "#Save the data\n",
    "img.save(\"QRCode.jpg\")\n"
   ]
  },
  {
   "cell_type": "markdown",
   "id": "48e5f4b7",
   "metadata": {},
   "source": [
    "# DECODING THE SECRET QR CODE "
   ]
  },
  {
   "cell_type": "code",
   "execution_count": 2,
   "id": "28bdeeb4",
   "metadata": {},
   "outputs": [
    {
     "name": "stdout",
     "output_type": "stream",
     "text": [
      "Follow me On LinkedIn - https://www.linkedin.com/in/shikhar-saxena-803844171/\n"
     ]
    }
   ],
   "source": [
    "import cv2\n",
    "\n",
    "#Create The Decoder\n",
    "decoder = cv2.QRCodeDetector()\n",
    "\n",
    "#Load your data\n",
    "image = cv2.imread(\"QRCode.jpg\")\n",
    "\n",
    "#Decode & print the required information\n",
    "link, data_points, straight_qrcode = decoder.detectAndDecode(image)\n",
    "print(link)"
   ]
  }
 ],
 "metadata": {
  "kernelspec": {
   "display_name": "Python 3 (ipykernel)",
   "language": "python",
   "name": "python3"
  },
  "language_info": {
   "codemirror_mode": {
    "name": "ipython",
    "version": 3
   },
   "file_extension": ".py",
   "mimetype": "text/x-python",
   "name": "python",
   "nbconvert_exporter": "python",
   "pygments_lexer": "ipython3",
   "version": "3.8.8"
  }
 },
 "nbformat": 4,
 "nbformat_minor": 5
}
